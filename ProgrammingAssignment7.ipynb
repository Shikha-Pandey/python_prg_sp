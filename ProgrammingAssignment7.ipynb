{
 "cells": [
  {
   "cell_type": "markdown",
   "id": "5b701788",
   "metadata": {},
   "source": [
    "1.\tWrite a Python Program to find sum of array?\n",
    "\n"
   ]
  },
  {
   "cell_type": "code",
   "execution_count": 8,
   "id": "3d8ea7aa",
   "metadata": {},
   "outputs": [
    {
     "name": "stdout",
     "output_type": "stream",
     "text": [
      "Enter number of elements : 4\n",
      "\n",
      "Enter the numbers : 6 8 3 6\n",
      "23\n"
     ]
    }
   ],
   "source": [
    "n = int(input(\"Enter number of elements : \"))\n",
    "a = list(map(int,input(\"\\nEnter the numbers : \").strip().split()))[:n]\n",
    "sum=0\n",
    "\n",
    "for i in range(n):\n",
    "    sum = sum + a[i]\n",
    "print(sum)\n",
    "    "
   ]
  },
  {
   "cell_type": "markdown",
   "id": "2af42cbd",
   "metadata": {},
   "source": [
    "2.\tWrite a Python Program to find largest element in an array?\n"
   ]
  },
  {
   "cell_type": "code",
   "execution_count": 5,
   "id": "d40c8315",
   "metadata": {},
   "outputs": [
    {
     "name": "stdout",
     "output_type": "stream",
     "text": [
      "Enter number of elements : 7\n",
      "\n",
      " Enter the Numbers1 7 8 9 6 10 5\n",
      "10\n"
     ]
    }
   ],
   "source": [
    "n = int(input(\"Enter number of elements : \"))\n",
    "a=list(map(int,input(\"\\n Enter the Numbers\").strip().split()))[:n]\n",
    "largest_no=a[0]\n",
    "for i in range(n):\n",
    "    if a[i] >= largest_no:\n",
    "        largest_no = a[i]\n",
    "print(largest_no)\n",
    "        \n",
    "\n",
    "\n",
    "\n"
   ]
  },
  {
   "cell_type": "markdown",
   "id": "fcba8949",
   "metadata": {},
   "source": [
    "3.\tWrite a Python Program for array rotation?\n"
   ]
  },
  {
   "cell_type": "code",
   "execution_count": 7,
   "id": "35308e01",
   "metadata": {},
   "outputs": [
    {
     "name": "stdout",
     "output_type": "stream",
     "text": [
      "Enter the No1\n",
      "\n",
      " Enter the Numbers5 6 8 7 3\n",
      "Array after left rotation is:  [6, 8, 7, 3, 5]\n"
     ]
    }
   ],
   "source": [
    "d=int(input(\"Enter the No by which you want to rotate the array\"))\n",
    "def rotateArray(a,d):\n",
    "    temp = []\n",
    "    n=len(a)\n",
    "    for i in range(d,n):\n",
    "        temp.append(a[i])\n",
    "    i = 0\n",
    "    for i in range (0,d):\n",
    "        temp.append(a[i])\n",
    "    a=temp.copy()\n",
    "    return a\n",
    " \n",
    "arr =list(map(int,input(\"\\n Enter the Numbers\").strip().split()))\n",
    "print(\"Array after left rotation is: \", end=' ')\n",
    "print(rotateArray(arr, d))"
   ]
  },
  {
   "cell_type": "markdown",
   "id": "35bf39ee",
   "metadata": {},
   "source": [
    "4.\tWrite a Python Program to Split the array and add the first part to the end?\n"
   ]
  },
  {
   "cell_type": "code",
   "execution_count": 8,
   "id": "bb157fcf",
   "metadata": {},
   "outputs": [
    {
     "name": "stdout",
     "output_type": "stream",
     "text": [
      "15 16 50 36 15 40 "
     ]
    }
   ],
   "source": [
    "def SplitArray(arr, n, k):\n",
    "    for i in range(0, k):\n",
    "        x = arr[0]\n",
    "        for j in range(0, n-1):\n",
    "            arr[j] = arr[j + 1]\n",
    "\n",
    "        arr[n-1] = x\n",
    "arr = [15, 40, 15, 16, 50, 36]\n",
    "n = len(arr)\n",
    "position = 2\n",
    "SplitArray(arr, n, position)\n",
    "for i in range(0, n):\n",
    "    print(arr[i], end = ' ')"
   ]
  },
  {
   "cell_type": "markdown",
   "id": "f48c83a0",
   "metadata": {},
   "source": [
    "5.\tWrite a Python Program to check if given array is Monotonic?"
   ]
  },
  {
   "cell_type": "code",
   "execution_count": 15,
   "id": "38feb468",
   "metadata": {},
   "outputs": [
    {
     "name": "stdout",
     "output_type": "stream",
     "text": [
      "\n",
      "Enter the nos: 1 6 8 0\n",
      "False\n"
     ]
    }
   ],
   "source": [
    "def ismonotonic(a):\n",
    "    n=len(a)\n",
    "    if n==1:\n",
    "        return True\n",
    "    else:\n",
    "        if all(a[i]<=a[i+1] for i in range(0,n-1)):\n",
    "            return True\n",
    "        elif all(a[i]>=a[i+1] for i in range(0,n-1)):\n",
    "            return True\n",
    "        else:\n",
    "            return False\n",
    "b=list(map(int,input(\"\\nEnter the nos: \").strip().split()))\n",
    "print(ismonotonic(b))"
   ]
  }
 ],
 "metadata": {
  "kernelspec": {
   "display_name": "Python 3 (ipykernel)",
   "language": "python",
   "name": "python3"
  },
  "language_info": {
   "codemirror_mode": {
    "name": "ipython",
    "version": 3
   },
   "file_extension": ".py",
   "mimetype": "text/x-python",
   "name": "python",
   "nbconvert_exporter": "python",
   "pygments_lexer": "ipython3",
   "version": "3.9.12"
  }
 },
 "nbformat": 4,
 "nbformat_minor": 5
}
