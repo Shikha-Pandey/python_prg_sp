{
 "cells": [
  {
   "cell_type": "markdown",
   "id": "9edd298b",
   "metadata": {},
   "source": [
    "1.\tWrite a Python program to check if the given number is a Disarium Number?\n",
    "\n"
   ]
  },
  {
   "cell_type": "code",
   "execution_count": 33,
   "id": "05af6215",
   "metadata": {},
   "outputs": [
    {
     "name": "stdout",
     "output_type": "stream",
     "text": [
      "Enter the no : 55\n",
      "The No is not a disarium No\n"
     ]
    }
   ],
   "source": [
    "no=int(input(\"Enter the no : \"))\n",
    "sum=0\n",
    "remndr=0\n",
    "temp=no\n",
    "length=len(str(no))\n",
    "\n",
    "while temp>0:\n",
    "    remndr=temp%10\n",
    "    sum=sum+ (remndr**length)\n",
    "    temp=temp//10\n",
    "    length=length-1\n",
    "    \n",
    "if no==sum:\n",
    "    print(\"The no is Disarium No\")\n",
    "else:\n",
    "    print(\"The No is not a disarium No\")\n",
    "    "
   ]
  },
  {
   "cell_type": "markdown",
   "id": "5c2ce027",
   "metadata": {},
   "source": [
    "2.\tWrite a Python program to print all disarium numbers between 1 to 100?\n"
   ]
  },
  {
   "cell_type": "code",
   "execution_count": 86,
   "id": "b4e2efc6",
   "metadata": {},
   "outputs": [],
   "source": [
    "def dis_no(strt,end): \n",
    "    for i in range(strt,end):\n",
    "            sum=0\n",
    "            remndr=0\n",
    "            temp=i\n",
    "            length=len(str(i))\n",
    "            \n",
    "            while temp>0:\n",
    "                remndr=temp%10\n",
    "                sum=sum+ (remndr**length)\n",
    "                temp=temp//10\n",
    "                length=length-1\n",
    "            if i==sum:\n",
    "                print(i,end=' ')\n",
    "            else:\n",
    "                pass  \n",
    "        \n",
    "    "
   ]
  },
  {
   "cell_type": "code",
   "execution_count": 87,
   "id": "edbb6220",
   "metadata": {},
   "outputs": [
    {
     "name": "stdout",
     "output_type": "stream",
     "text": [
      "0 1 2 3 4 5 6 7 8 9 89 "
     ]
    }
   ],
   "source": [
    "dis_no(0,101)\n"
   ]
  },
  {
   "cell_type": "markdown",
   "id": "99f68b6c",
   "metadata": {},
   "source": [
    "3.\tWrite a Python program to check if the given number is Happy Number?\n"
   ]
  },
  {
   "cell_type": "code",
   "execution_count": null,
   "id": "3e8272a8",
   "metadata": {},
   "outputs": [],
   "source": [
    "def isHappynumber(n):\n",
    "    if n == 1 or n == 7:\n",
    "        return True\n",
    "    Sum, x = n, n\n",
    "    \n",
    "    while Sum > 9:\n",
    "        Sum = 0\n",
    "          \n",
    "        # This loop finds the sum of\n",
    "        # square of digits\n",
    "        while x > 0:\n",
    "            d = x % 10\n",
    "            Sum += d * d\n",
    "            x = int(x / 10)\n",
    "         \n",
    "        if Sum == 1:\n",
    "            return True\n",
    "              \n",
    "        x = Sum\n",
    "     \n",
    "    if Sum == 7:\n",
    "        return True\n",
    "          \n",
    "    return False\n",
    " \n",
    "n = int(input(\"Enter the No\"))\n",
    "      \n",
    "if isHappynumber(n):\n",
    "    print(n, \"is a Happy number\")\n",
    "else:\n",
    "    print(n, \"is not a Happy number\")"
   ]
  },
  {
   "cell_type": "markdown",
   "id": "e053e28f",
   "metadata": {},
   "source": [
    "4.\tWrite a Python program to print all happy numbers between 1 and 100?\n"
   ]
  },
  {
   "cell_type": "code",
   "execution_count": 14,
   "id": "47751782",
   "metadata": {},
   "outputs": [
    {
     "name": "stdout",
     "output_type": "stream",
     "text": [
      "1 7 10 13 19 23 28 31 32 44 49 68 70 79 82 86 91 94 97 100  \n"
     ]
    }
   ],
   "source": [
    "def isHappynumber(strt,end):\n",
    "    for i in range(strt,end):\n",
    "        \n",
    "        if i == 1 or i == 7:\n",
    "            print(i,end=\" \")\n",
    "        Summation, temp = i, i\n",
    "    \n",
    "        while Summation > 9:\n",
    "            Summation = 0\n",
    "          \n",
    "       \n",
    "            while temp > 0:\n",
    "                d = temp % 10\n",
    "                Summation += d * d\n",
    "                temp = int(temp / 10)\n",
    "         \n",
    "            if Summation == 1:\n",
    "                print(i,end=\" \")\n",
    "            temp = Summation\n",
    "            \n",
    "    return \" \"\n",
    "      \n",
    "           \n",
    "print(isHappynumber(1,101))\n"
   ]
  },
  {
   "cell_type": "markdown",
   "id": "f40aa2e4",
   "metadata": {},
   "source": [
    "5.\tWrite a Python program to determine whether the given number is a Harshad Number?\n"
   ]
  },
  {
   "cell_type": "code",
   "execution_count": 17,
   "id": "6eb62888",
   "metadata": {},
   "outputs": [
    {
     "name": "stdout",
     "output_type": "stream",
     "text": [
      "Enter the no156\n",
      "156 is a harshad number\n"
     ]
    }
   ],
   "source": [
    "num = int(input(\"Enter the no\"));    \n",
    "rem = sum = 0;    \n",
    "\n",
    "n = num;    \n",
    " \n",
    "while(num > 0):    \n",
    "    rem = num%10;    \n",
    "    sum = sum + rem;    \n",
    "    num = num//10;    \n",
    "     \n",
    "if(n%sum == 0):    \n",
    "    print(str(n) + \" is a harshad number\");    \n",
    "else:    \n",
    "    print(str(n) + \" is not a harshad number\");    "
   ]
  },
  {
   "cell_type": "markdown",
   "id": "9eb71b85",
   "metadata": {},
   "source": [
    "6.\tWrite a Python program to print all pronic numbers between 1 and 100?"
   ]
  },
  {
   "cell_type": "code",
   "execution_count": 23,
   "id": "119cb1fd",
   "metadata": {},
   "outputs": [
    {
     "name": "stdout",
     "output_type": "stream",
     "text": [
      "Pronic numbers between 1 and 100: \n",
      "2 6 12 20 30 42 56 72 90 "
     ]
    }
   ],
   "source": [
    "def isPronicNumber(num):    \n",
    "    flag = False;    \n",
    "        \n",
    "    for j in range(1, num+1):    \n",
    "           \n",
    "        if((j*(j+1)) == num):    \n",
    "            flag = True;    \n",
    "            break;    \n",
    "    return flag;    \n",
    " \n",
    "print(\"Pronic numbers between 1 and 100: \");    \n",
    "for i in range(1, 101):    \n",
    "    if(isPronicNumber(i)):    \n",
    "        print(i,end=\" \"),    \n",
    "         \n",
    "        \n",
    "        "
   ]
  },
  {
   "cell_type": "code",
   "execution_count": null,
   "id": "1a9ecde1",
   "metadata": {},
   "outputs": [],
   "source": []
  }
 ],
 "metadata": {
  "kernelspec": {
   "display_name": "Python 3 (ipykernel)",
   "language": "python",
   "name": "python3"
  },
  "language_info": {
   "codemirror_mode": {
    "name": "ipython",
    "version": 3
   },
   "file_extension": ".py",
   "mimetype": "text/x-python",
   "name": "python",
   "nbconvert_exporter": "python",
   "pygments_lexer": "ipython3",
   "version": "3.9.12"
  }
 },
 "nbformat": 4,
 "nbformat_minor": 5
}
