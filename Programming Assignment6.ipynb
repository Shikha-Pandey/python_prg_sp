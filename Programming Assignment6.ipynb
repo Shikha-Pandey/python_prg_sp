{
 "cells": [
  {
   "cell_type": "markdown",
   "id": "b6644378",
   "metadata": {},
   "source": [
    "1.\tWrite a Python Program to Display Fibonacci Sequence Using Recursion?\n",
    "\n"
   ]
  },
  {
   "cell_type": "code",
   "execution_count": 9,
   "id": "61e260f6",
   "metadata": {},
   "outputs": [
    {
     "name": "stdout",
     "output_type": "stream",
     "text": [
      "Enter the No.10\n",
      "0 1 1 2 3 5 8 13 21 34 "
     ]
    }
   ],
   "source": [
    "def fib_recc(n):\n",
    "    if n<=1:\n",
    "        return n\n",
    "    else:\n",
    "        return(fib_recc(n-1) + fib_recc(n-2))\n",
    "    \n",
    "noOfTerms=int(input(\"Enter the No.\"))\n",
    "\n",
    "if noOfTerms<=0:\n",
    "    print(\"Enter positive No\")\n",
    "else:\n",
    "    for i in range(noOfTerms):\n",
    "        print(fib_recc(i),end=\" \")\n",
    "        \n",
    "        \n",
    "\n",
    "    "
   ]
  },
  {
   "cell_type": "markdown",
   "id": "5118fc56",
   "metadata": {},
   "source": [
    "2.\tWrite a Python Program to Find Factorial of Number Using Recursion?\n"
   ]
  },
  {
   "cell_type": "code",
   "execution_count": 14,
   "id": "62380e50",
   "metadata": {},
   "outputs": [
    {
     "name": "stdout",
     "output_type": "stream",
     "text": [
      "The factorial of 5 is 120\n"
     ]
    }
   ],
   "source": [
    "\n",
    "def recur_factorial(n):\n",
    "    if n == 1:\n",
    "        return n\n",
    "    else:\n",
    "        return n*recur_factorial(n-1)\n",
    "\n",
    "num = 5\n",
    "\n",
    "\n",
    "if num < 0:\n",
    "   print(\"enter positive numbers\")\n",
    "elif num == 0:\n",
    "   print(\"The factorial of 0 is 1\")\n",
    "else:\n",
    "   print(\"The factorial of\", num, \"is\", recur_factorial(num))\n",
    "    \n",
    "        "
   ]
  },
  {
   "cell_type": "markdown",
   "id": "e2e098f2",
   "metadata": {},
   "source": [
    "3.\tWrite a Python Program to calculate your Body Mass Index?\n"
   ]
  },
  {
   "cell_type": "code",
   "execution_count": 21,
   "id": "1b2d57c9",
   "metadata": {},
   "outputs": [
    {
     "name": "stdout",
     "output_type": "stream",
     "text": [
      "Enter the height in cm: 163\n",
      "Enter the weight in kg: 58\n",
      "Your Body Mass Index is 21.829952199932254\n"
     ]
    }
   ],
   "source": [
    "height = float(input(\"Enter the height in cm: \"))  \n",
    "weight = float(input(\"Enter the weight in kg: \"))  \n",
    "\n",
    "BMI =weight / (height/100)**2  \n",
    "\n",
    "print(\"Your Body Mass Index is\", BMI)  \n",
    " "
   ]
  },
  {
   "cell_type": "markdown",
   "id": "0e67e211",
   "metadata": {},
   "source": [
    "4.\tWrite a Python Program to calculate the natural logarithm of any number?\n"
   ]
  },
  {
   "cell_type": "code",
   "execution_count": 35,
   "id": "6697aeb7",
   "metadata": {},
   "outputs": [
    {
     "name": "stdout",
     "output_type": "stream",
     "text": [
      "Enter the no : 13\n",
      "Enter the base : 23\n",
      "Natural logarithm of 13 is : 2.5649493574615367\n",
      "Logarithm base 23 of 13 is : 0.818036705164662\n"
     ]
    }
   ],
   "source": [
    "import math\n",
    " \n",
    "no=int(input(\"Enter the no : \"))\n",
    "base=int(input(\"Enter the base : \"))\n",
    "print (\"Natural logarithm of\"\n",
    "       ,no ,\"is : \", end=\"\")\n",
    "print (math.log(no))\n",
    " \n",
    "# Printing the log base of no\n",
    "print (\"Logarithm base\", base, \"of\", no, \"is : \", end=\"\")\n",
    "print (math.log(no,base))"
   ]
  },
  {
   "cell_type": "markdown",
   "id": "008b9d87",
   "metadata": {},
   "source": [
    "5.\tWrite a Python Program for cube sum of first n natural numbers?"
   ]
  },
  {
   "cell_type": "code",
   "execution_count": 1,
   "id": "3700799c",
   "metadata": {},
   "outputs": [
    {
     "name": "stdout",
     "output_type": "stream",
     "text": [
      "Enter the no : 7\n",
      "784\n"
     ]
    }
   ],
   "source": [
    "no=int(input(\"Enter the no : \"))\n",
    "sum=0\n",
    "for i in range(no+1):\n",
    "    sum=sum+(i)**3\n",
    "print(sum)\n",
    "    \n",
    "    "
   ]
  },
  {
   "cell_type": "code",
   "execution_count": null,
   "id": "365683c6",
   "metadata": {},
   "outputs": [],
   "source": []
  }
 ],
 "metadata": {
  "kernelspec": {
   "display_name": "Python 3 (ipykernel)",
   "language": "python",
   "name": "python3"
  },
  "language_info": {
   "codemirror_mode": {
    "name": "ipython",
    "version": 3
   },
   "file_extension": ".py",
   "mimetype": "text/x-python",
   "name": "python",
   "nbconvert_exporter": "python",
   "pygments_lexer": "ipython3",
   "version": "3.9.12"
  }
 },
 "nbformat": 4,
 "nbformat_minor": 5
}
