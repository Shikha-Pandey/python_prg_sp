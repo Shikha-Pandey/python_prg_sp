{
 "cells": [
  {
   "cell_type": "raw",
   "id": "d457574f",
   "metadata": {},
   "source": [
    "1.     What are escape characters, and how do you use them?\n",
    "\n",
    "Ans1.  Escape characters are characters that never get printed as part of the output.When backslash is used in Python                  programming, it allows the program to escape the next characters.\n",
    "       eg :\n",
    "       \\\\\tBackslash\n",
    "       \\n\tNew Line\n",
    "       \\r\tCarriage return\n",
    "       \\t\tTab\n",
    "       \\b\tBackspace\n",
    "\n",
    "\n"
   ]
  },
  {
   "cell_type": "raw",
   "id": "b91c7d2d",
   "metadata": {},
   "source": [
    "2.    What do the escape characters n and t stand for?\n",
    "\n",
    "Ans2. \\n stands for New Line and  \\t stands for\tTab.\n"
   ]
  },
  {
   "cell_type": "raw",
   "id": "b8025407",
   "metadata": {},
   "source": [
    "3.    What is the way to include backslash characters in a string?\n"
   ]
  },
  {
   "cell_type": "raw",
   "id": "f9fc9f03",
   "metadata": {},
   "source": [
    "4.    The string \"Howl's Moving Castle\" is a correct value. Why isn't the single quote character in the word Howl's not escaped       a problem?\n",
    "\n",
    "Ans4. The single quote in Howl's is fine because here double quotes are used to mark the beginning and end of the string.\n"
   ]
  },
  {
   "cell_type": "raw",
   "id": "583c9511",
   "metadata": {},
   "source": [
    "5.     How do you write a string of newlines if you don't want to use the n character?\n",
    "\n",
    "Ans5.  You can print strings without adding a new line with end = <character> , where <character> is the character that will be        used to separate the lines. \n",
    " "
   ]
  },
  {
   "cell_type": "raw",
   "id": "4747b2c4",
   "metadata": {},
   "source": [
    "6. What are the values of the given expressions?\n",
    "       'Hello, world!'[1]\n",
    "       'Hello, world!'[0:5]\n",
    "       'Hello, world!'[:5]\n",
    "       'Hello, world!'[3:]\n",
    "\n",
    "Ans6.   'Hello, world!'[1]   :- 'e'\n",
    "       'Hello, world!'[0:5]  :- 'Hello'\n",
    "       'Hello, world!'[:5]   :- 'Hello' \n",
    "       'Hello, world!'[3:]   :- 'lo, world!'\n"
   ]
  },
  {
   "cell_type": "raw",
   "id": "6c9cff41",
   "metadata": {},
   "source": [
    "7.    What are the values of the following expressions?\n",
    "      'Hello'.upper()\n",
    "      'Hello'.upper().isupper()\n",
    "      'Hello'.upper().lower()\n",
    "      \n",
    "Ans7. 'Hello'.upper()            :-'HELLO'\n",
    "      'Hello'.upper().isupper()  :-True\n",
    "      'Hello'.upper().lower()    :-'hello'"
   ]
  },
  {
   "cell_type": "raw",
   "id": "f4d56860",
   "metadata": {},
   "source": [
    "8.    What are the values of the following expressions?\n",
    "      'Remember, remember, the fifth of July.'.split()\n",
    "      '-'.join('There can only one.'.split())\n",
    "\n",
    "Ans8.   'There-can-only-one.'\n"
   ]
  },
  {
   "cell_type": "raw",
   "id": "ed436a3f",
   "metadata": {},
   "source": [
    "9.     What are the methods for right-justifying, left-justifying, and centering a string?\n",
    "Ans9.  The rjust() is for right-justifying , ljust() is for left-justifying ,and center() is for centering a string. "
   ]
  },
  {
   "cell_type": "raw",
   "id": "b07fe063",
   "metadata": {},
   "source": [
    "10.    What is the best way to remove whitespace characters from the start or end?\n",
    "Ans10  The lstrip() and rstrip() methods remove whitespace from the left and right ends of a string, respectively."
   ]
  },
  {
   "cell_type": "raw",
   "id": "881c08f0",
   "metadata": {},
   "source": []
  }
 ],
 "metadata": {
  "kernelspec": {
   "display_name": "Python 3 (ipykernel)",
   "language": "python",
   "name": "python3"
  },
  "language_info": {
   "codemirror_mode": {
    "name": "ipython",
    "version": 3
   },
   "file_extension": ".py",
   "mimetype": "text/x-python",
   "name": "python",
   "nbconvert_exporter": "python",
   "pygments_lexer": "ipython3",
   "version": "3.9.12"
  }
 },
 "nbformat": 4,
 "nbformat_minor": 5
}
